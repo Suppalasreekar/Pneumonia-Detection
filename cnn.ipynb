{
 "cells": [
  {
   "cell_type": "code",
   "execution_count": 30,
   "metadata": {},
   "outputs": [],
   "source": [
    "# Avoid OOM errors by setting GPU Memory Consumption Growth\n",
    "import tensorflow as tf\n",
    "gpus = tf.config.experimental.list_physical_devices('GPU')\n",
    "for gpu in gpus: \n",
    "    tf.config.experimental.set_memory_growth(gpu, True)"
   ]
  },
  {
   "cell_type": "code",
   "execution_count": 31,
   "metadata": {},
   "outputs": [
    {
     "data": {
      "text/plain": [
       "[PhysicalDevice(name='/physical_device:GPU:0', device_type='GPU')]"
      ]
     },
     "execution_count": 31,
     "metadata": {},
     "output_type": "execute_result"
    }
   ],
   "source": [
    "import tensorflow as tf\n",
    "tf.config.list_physical_devices('GPU')"
   ]
  },
  {
   "cell_type": "code",
   "execution_count": 32,
   "metadata": {},
   "outputs": [],
   "source": [
    "from keras.models import Model\n",
    "from keras.layers import Dense, GlobalAveragePooling2D\n",
    "from keras.applications import EfficientNetB3\n",
    "from sklearn.ensemble import RandomForestClassifier\n",
    "from sklearn.metrics import accuracy_score\n",
    "from sklearn.model_selection import train_test_split\n",
    "import numpy as np\n",
    "from keras.utils import image_dataset_from_directory\n",
    "from keras.preprocessing.image import ImageDataGenerator\n",
    "import tensorflow as tf"
   ]
  },
  {
   "cell_type": "code",
   "execution_count": 33,
   "metadata": {},
   "outputs": [],
   "source": [
    "import os\n",
    "import random\n",
    "import matplotlib.pyplot as plt\n",
    "data_path = 'chest_xray/data'\n",
    "def oversampler(class_name, class_count):\n",
    "    datagen = ImageDataGenerator(\n",
    "        rotation_range=40,\n",
    "        width_shift_range=0.2,\n",
    "        height_shift_range=0.2,\n",
    "        shear_range=0.2,\n",
    "        zoom_range=0.2,\n",
    "        horizontal_flip=True,\n",
    "        fill_mode='nearest'\n",
    "    )\n",
    "\n",
    "    curr_dir = data_path + '/' + class_name\n",
    "    save_dir = curr_dir\n",
    "    images = os.listdir(curr_dir)\n",
    "    img = plt.imread(curr_dir + '/' + random.choice(images))\n",
    "    img = np.expand_dims(img, axis=-1)\n",
    "    img = np.expand_dims(img, axis=0)\n",
    "    \n",
    "\n",
    "    cnt = class_count\n",
    "    target = 3500\n",
    "    for batch in datagen.flow(img, batch_size=1, save_to_dir=save_dir, save_prefix='aug', save_format='jpg'):\n",
    "        cnt += 1\n",
    "        img = plt.imread(curr_dir + '/' + random.choice(images))\n",
    "        img = np.expand_dims(img, axis=-1)\n",
    "        img = np.expand_dims(img, axis=0)\n",
    "        if cnt >= target:\n",
    "            break\n",
    "\n",
    "def undersampler(class_name, class_count):\n",
    "    target_count = 3500\n",
    "    curr_dir = data_path + '/' + class_name\n",
    "    images = os.listdir(curr_dir)\n",
    "    images_to_delete = random.sample(images, class_count - target_count)\n",
    "    for image in images_to_delete:\n",
    "        img_path = os.path.join(curr_dir, image)\n",
    "        os.remove(img_path)"
   ]
  },
  {
   "cell_type": "code",
   "execution_count": 34,
   "metadata": {},
   "outputs": [
    {
     "name": "stdout",
     "output_type": "stream",
     "text": [
      "Normal 3500\n",
      "Pneu 3500\n"
     ]
    }
   ],
   "source": [
    "import os\n",
    "classes = os.listdir('chest_xray/data')\n",
    "class_counts = [len(os.listdir('chest_xray/data/' + x)) for x in classes]\n",
    "for i in range(len(classes)):\n",
    "    print(classes[i], class_counts[i])\n",
    "    undersampler(classes[i], class_counts[i])\n",
    "    "
   ]
  },
  {
   "cell_type": "code",
   "execution_count": 35,
   "metadata": {},
   "outputs": [
    {
     "name": "stdout",
     "output_type": "stream",
     "text": [
      "Dataset split completed successfully.\n"
     ]
    }
   ],
   "source": [
    "import random\n",
    "import shutil\n",
    "\n",
    "train_path = \"train\"\n",
    "val_path = \"val\"\n",
    "test_path = \"test\"\n",
    "\n",
    "os.makedirs(train_path, exist_ok=True)\n",
    "os.makedirs(val_path, exist_ok=True)\n",
    "os.makedirs(test_path, exist_ok=True)\n",
    "\n",
    "train_ratio = 0.7  # 70% for training\n",
    "val_ratio = 0.15   # 15% for validation\n",
    "test_ratio = 0.15  # 15% for testing\n",
    "\n",
    "for class_folder in os.listdir(data_path):\n",
    "    class_path = os.path.join(data_path, class_folder)\n",
    "    \n",
    "    train_class_path = os.path.join(train_path, class_folder)\n",
    "    val_class_path = os.path.join(val_path, class_folder)\n",
    "    test_class_path = os.path.join(test_path, class_folder)\n",
    "    \n",
    "    os.makedirs(train_class_path, exist_ok=True)\n",
    "    os.makedirs(val_class_path, exist_ok=True)\n",
    "    os.makedirs(test_class_path, exist_ok=True)   \n",
    "    images = os.listdir(class_path)\n",
    "    random.shuffle(images)\n",
    "    num_images = len(images)\n",
    "    num_train = int(num_images * train_ratio)\n",
    "    num_val = int(num_images * val_ratio)\n",
    "    num_test = num_images - num_train - num_val\n",
    "    \n",
    "    train_images = images[:num_train]\n",
    "    val_images = images[num_train:num_train+num_val]\n",
    "    test_images = images[num_train+num_val:]\n",
    "    \n",
    "    for image in train_images:\n",
    "        shutil.copy(os.path.join(class_path, image), os.path.join(train_class_path, image))\n",
    "    \n",
    "    for image in val_images:\n",
    "        shutil.copy(os.path.join(class_path, image), os.path.join(val_class_path, image))\n",
    "    \n",
    "    for image in test_images:\n",
    "        shutil.copy(os.path.join(class_path, image), os.path.join(test_class_path, image))\n",
    "\n",
    "print(\"Dataset split completed successfully.\")"
   ]
  },
  {
   "cell_type": "code",
   "execution_count": 36,
   "metadata": {},
   "outputs": [
    {
     "name": "stdout",
     "output_type": "stream",
     "text": [
      "Found 4900 files belonging to 2 classes.\n",
      "Found 1050 files belonging to 2 classes.\n",
      "Found 1050 files belonging to 2 classes.\n"
     ]
    }
   ],
   "source": [
    "from keras.utils import image_dataset_from_directory\n",
    "val_dir = \"val\"\n",
    "train_dir = \"train\"\n",
    "test_dir = 'test'\n",
    "train_path = \"train\"\n",
    "val_path = \"val\"\n",
    "test_path = \"test\"\n",
    "image_size = (256, 256)\n",
    "batch_size = 32\n",
    "# Define ImageDataGenerators for loading and preprocessing the data\n",
    "\n",
    "\n",
    "train_dataset = image_dataset_from_directory(\n",
    "    train_path,\n",
    "    image_size=image_size,\n",
    "    batch_size=batch_size,\n",
    "    seed=123\n",
    ")\n",
    "class_names = train_dataset.class_names\n",
    "val_dataset = image_dataset_from_directory(\n",
    "    val_path,\n",
    "    image_size=image_size,\n",
    "    batch_size=batch_size,\n",
    "    seed=42\n",
    ")\n",
    "\n",
    "test_dataset = image_dataset_from_directory(\n",
    "    test_path,\n",
    "    image_size=image_size,\n",
    "    batch_size=batch_size,\n",
    "    seed=42\n",
    ")"
   ]
  },
  {
   "cell_type": "code",
   "execution_count": 37,
   "metadata": {},
   "outputs": [],
   "source": [
    "base_model = EfficientNetB3(weights=\"imagenet\",include_top=False,input_shape=(256,256,3))\n",
    "base_model.trainable=False\n",
    "x=base_model.output\n",
    "x=GlobalAveragePooling2D()(x)\n",
    "feature_extractor=Model(inputs=base_model.input,outputs=x)\n",
    "\n",
    "feature_shape=feature_extractor.output_shape[1]"
   ]
  },
  {
   "cell_type": "code",
   "execution_count": 38,
   "metadata": {},
   "outputs": [],
   "source": [
    "from keras.applications.efficientnet import preprocess_input\n",
    "def extract_features(dataset):\n",
    "    features = []\n",
    "    labels = []\n",
    "    for batch, label_batch in dataset:\n",
    "        # Preprocess the images\n",
    "        batch = preprocess_input(batch)\n",
    "        # Extract features using EfficientNetB3\n",
    "        feature_batch = base_model(batch)\n",
    "        feature_batch = tf.reshape(feature_batch, (feature_batch.shape[0], -1))\n",
    "        features.append(feature_batch.numpy())\n",
    "        labels.append(label_batch.numpy())\n",
    "    return np.concatenate(features), np.concatenate(labels)\n",
    "\n",
    "# Extract features and labels for the training and validation datasets\n",
    "train_features, train_labels = extract_features(train_dataset)\n",
    "test_features, test_labels = extract_features(test_dataset)\n",
    "val_features, val_labels = extract_features(val_dataset)"
   ]
  },
  {
   "cell_type": "code",
   "execution_count": 39,
   "metadata": {},
   "outputs": [],
   "source": [
    "# Flatten train_features and val_features\n",
    "train_features = train_features.reshape(train_features.shape[0], -1)\n",
    "val_features = val_features.reshape(val_features.shape[0], -1)\n",
    "\n",
    "# Ensure labels are 1D\n",
    "# train_labels = np.argmax(train_labels, axis=1)\n",
    "# val_labels = np.argmax(val_labels, axis=1)"
   ]
  },
  {
   "cell_type": "code",
   "execution_count": 40,
   "metadata": {},
   "outputs": [
    {
     "name": "stdout",
     "output_type": "stream",
     "text": [
      "Validation Accuracy: 0.9657142857142857\n"
     ]
    }
   ],
   "source": [
    "# Train Random Forest\n",
    "import joblib\n",
    "rf_classifier = RandomForestClassifier(n_estimators=100, random_state=42)\n",
    "rf_classifier.fit(train_features, train_labels)\n",
    "joblib.dump(rf_classifier, 'random_forest_model.pkl')\n",
    "\n",
    "# Validate Random Forest\n",
    "val_pred = rf_classifier.predict(val_features)\n",
    "print(f'Validation Accuracy: {accuracy_score(val_labels, val_pred)}')"
   ]
  },
  {
   "cell_type": "code",
   "execution_count": 41,
   "metadata": {},
   "outputs": [
    {
     "name": "stdout",
     "output_type": "stream",
     "text": [
      "Validation Accuracy: 0.9752380952380952\n"
     ]
    }
   ],
   "source": [
    "test_pred = rf_classifier.predict(test_features)\n",
    "print(f'Validation Accuracy: {accuracy_score(test_labels, test_pred)}')"
   ]
  },
  {
   "cell_type": "code",
   "execution_count": 42,
   "metadata": {},
   "outputs": [
    {
     "data": {
      "text/plain": [
       "<Figure size 2000x500 with 0 Axes>"
      ]
     },
     "metadata": {},
     "output_type": "display_data"
    },
    {
     "data": {
      "image/png": "[encoded data removed]",
      "text/plain": [
       "<Figure size 400x400 with 1 Axes>"
      ]
     },
     "metadata": {},
     "output_type": "display_data"
    }
   ],
   "source": [
    "import sklearn\n",
    "from sklearn.metrics import confusion_matrix, classification_report\n",
    "import matplotlib.pyplot as plt\n",
    "plt.figure(figsize=(20, 5))\n",
    "cm = confusion_matrix(test_labels, test_pred)\n",
    "disp = sklearn.metrics.ConfusionMatrixDisplay(confusion_matrix=cm, display_labels=[0, 1])\n",
    "fig, ax = plt.subplots(figsize=(4,4))\n",
    "disp.plot(ax=ax, colorbar=False, cmap='YlGnBu')\n",
    "plt.xlabel('Predicted Labels')\n",
    "plt.ylabel('True Labels')\n",
    "plt.show()"
   ]
  },
  {
   "cell_type": "code",
   "execution_count": 43,
   "metadata": {},
   "outputs": [
    {
     "name": "stdout",
     "output_type": "stream",
     "text": [
      "              precision    recall  f1-score   support\n",
      "\n",
      "      Normal       0.98      0.98      0.98       525\n",
      "   Pneumonia       0.98      0.98      0.98       525\n",
      "\n",
      "    accuracy                           0.98      1050\n",
      "   macro avg       0.98      0.98      0.98      1050\n",
      "weighted avg       0.98      0.98      0.98      1050\n",
      "\n"
     ]
    }
   ],
   "source": [
    "results = classification_report(test_labels, test_pred, target_names=['Normal', 'Pneumonia'])\n",
    "print(results)"
   ]
  }
 ],
 "metadata": {
  "kernelspec": {
   "display_name": "py310",
   "language": "python",
   "name": "python3"
  },
  "language_info": {
   "codemirror_mode": {
    "name": "ipython",
    "version": 3
   },
   "file_extension": ".py",
   "mimetype": "text/x-python",
   "name": "python",
   "nbconvert_exporter": "python",
   "pygments_lexer": "ipython3",
   "version": "3.10.14"
  }
 },
 "nbformat": 4,
 "nbformat_minor": 2
}
